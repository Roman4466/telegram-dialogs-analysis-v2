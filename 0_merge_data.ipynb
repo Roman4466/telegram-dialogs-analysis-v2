{
 "cells": [
  {
   "cell_type": "code",
   "execution_count": 1,
   "id": "09b4e301",
   "metadata": {},
   "outputs": [],
   "source": [
    "import os\n",
    "import pandas as pd\n",
    "import glob\n",
    "from utils.utils import init_config"
   ]
  },
  {
   "cell_type": "code",
   "execution_count": 2,
   "id": "ca9e285a",
   "metadata": {},
   "outputs": [],
   "source": [
    "config_path = \"config/config.json\"\n",
    "config = init_config(config_path)"
   ]
  },
  {
   "cell_type": "code",
   "execution_count": 3,
   "id": "d076df7c",
   "metadata": {},
   "outputs": [],
   "source": [
    "DIALOGS_DATA_PATH = config['dialogs_data_folder']\n",
    "DIALOGS_META_DATA_PATH = config['dialogs_list_folder']\n",
    "MERGED_DATA_PATH = config['merged_data_path']"
   ]
  },
  {
   "cell_type": "code",
   "execution_count": 4,
   "id": "65a13565",
   "metadata": {},
   "outputs": [
    {
     "name": "stdout",
     "output_type": "stream",
     "text": [
      "\u001b[34mdialogs\u001b[m\u001b[m      \u001b[34mdialogs_meta\u001b[m\u001b[m \u001b[34mgifs_folder\u001b[m\u001b[m  \u001b[34mmerged_data\u001b[m\u001b[m  \u001b[34mmp4_folder\u001b[m\u001b[m\n"
     ]
    }
   ],
   "source": [
    "!ls ../data/"
   ]
  },
  {
   "cell_type": "code",
   "execution_count": 5,
   "id": "6d0eddab",
   "metadata": {},
   "outputs": [],
   "source": [
    "dialogs_data_files = glob.glob(f\"{DIALOGS_DATA_PATH}/*.csv\")\n",
    "dialogs_meta_data_files = glob.glob(f\"{DIALOGS_META_DATA_PATH}/*.json\")"
   ]
  },
  {
   "cell_type": "markdown",
   "id": "78cc73b6",
   "metadata": {},
   "source": [
    "## merging all dialogs_data (csv files) into one"
   ]
  },
  {
   "cell_type": "code",
   "execution_count": 6,
   "id": "4d582c3b",
   "metadata": {},
   "outputs": [
    {
     "name": "stdout",
     "output_type": "stream",
     "text": [
      "Warning: The file ../data/dialogs/6846008703.csv is empty and will be skipped.\n",
      "Warning: The file ../data/dialogs/-367857042.csv is empty and will be skipped.\n"
     ]
    },
    {
     "name": "stderr",
     "output_type": "stream",
     "text": [
      "/var/folders/pc/vqmykl894s313p24rdg7r01w0000gn/T/ipykernel_83827/2184868429.py:5: DtypeWarning: Columns (4) have mixed types. Specify dtype option on import or set low_memory=False.\n",
      "  local_df = pd.read_csv(d)\n"
     ]
    },
    {
     "name": "stdout",
     "output_type": "stream",
     "text": [
      "Warning: The file ../data/dialogs/1031952739.csv is empty and will be skipped.\n",
      "Dataframe successfully created from non-empty files.\n"
     ]
    }
   ],
   "source": [
    "df_array = []\n",
    "\n",
    "for d in dialogs_data_files:\n",
    "    try:\n",
    "        local_df = pd.read_csv(d)\n",
    "        local_df[\"dialog_id\"] = os.path.basename(d).split(\".\")[0]\n",
    "        df_array.append(local_df)\n",
    "    except pd.errors.EmptyDataError:\n",
    "        print(f\"Warning: The file {d} is empty and will be skipped.\")\n",
    "    except Exception as e:\n",
    "        print(f\"Error: Could not process the file {d}. Reason: {e}\")\n",
    "\n",
    "if df_array:\n",
    "    df = pd.concat(df_array, ignore_index=True)\n",
    "    print(\"Dataframe successfully created from non-empty files.\")\n",
    "else:\n",
    "    print(\"No valid files to process. The dataframe is empty.\")\n"
   ]
  },
  {
   "cell_type": "code",
   "execution_count": 7,
   "id": "4d83eb47",
   "metadata": {},
   "outputs": [
    {
     "data": {
      "text/plain": [
       "(8416543, 11)"
      ]
     },
     "execution_count": 7,
     "metadata": {},
     "output_type": "execute_result"
    }
   ],
   "source": [
    "df.shape"
   ]
  },
  {
   "cell_type": "code",
   "execution_count": 8,
   "id": "96e470a8",
   "metadata": {},
   "outputs": [],
   "source": [
    "if not os.path.isdir(MERGED_DATA_PATH):\n",
    "    os.mkdir(MERGED_DATA_PATH)\n",
    "\n",
    "if \"Unnamed: 0\" in df:\n",
    "    df = df.drop([\"Unnamed: 0\"], axis=True)\n",
    "    \n",
    "df.to_csv(f\"{MERGED_DATA_PATH}/dialogs_data_all.csv\", index=False)"
   ]
  },
  {
   "cell_type": "code",
   "execution_count": 9,
   "id": "16776850",
   "metadata": {},
   "outputs": [
    {
     "data": {
      "text/plain": [
       "(8416543, 10)"
      ]
     },
     "execution_count": 9,
     "metadata": {},
     "output_type": "execute_result"
    }
   ],
   "source": [
    "df.shape"
   ]
  },
  {
   "cell_type": "code",
   "execution_count": 10,
   "id": "4672e8ce",
   "metadata": {},
   "outputs": [
    {
     "data": {
      "text/html": [
       "<div>\n",
       "<style scoped>\n",
       "    .dataframe tbody tr th:only-of-type {\n",
       "        vertical-align: middle;\n",
       "    }\n",
       "\n",
       "    .dataframe tbody tr th {\n",
       "        vertical-align: top;\n",
       "    }\n",
       "\n",
       "    .dataframe thead th {\n",
       "        text-align: right;\n",
       "    }\n",
       "</style>\n",
       "<table border=\"1\" class=\"dataframe\">\n",
       "  <thead>\n",
       "    <tr style=\"text-align: right;\">\n",
       "      <th></th>\n",
       "      <th>id</th>\n",
       "      <th>date</th>\n",
       "      <th>from_id</th>\n",
       "      <th>to_id</th>\n",
       "      <th>fwd_from</th>\n",
       "      <th>message</th>\n",
       "      <th>type</th>\n",
       "      <th>duration</th>\n",
       "      <th>reactions</th>\n",
       "      <th>dialog_id</th>\n",
       "    </tr>\n",
       "  </thead>\n",
       "  <tbody>\n",
       "    <tr>\n",
       "      <th>0</th>\n",
       "      <td>170803</td>\n",
       "      <td>2023-06-16 08:39:46+00:00</td>\n",
       "      <td>NaN</td>\n",
       "      <td>749006059</td>\n",
       "      <td>NaN</td>\n",
       "      <td>думаешь у меня есть желание с тобой говорить? ...</td>\n",
       "      <td>text</td>\n",
       "      <td>NaN</td>\n",
       "      <td>{}</td>\n",
       "      <td>611662350</td>\n",
       "    </tr>\n",
       "    <tr>\n",
       "      <th>1</th>\n",
       "      <td>170802</td>\n",
       "      <td>2023-06-16 08:06:56+00:00</td>\n",
       "      <td>PeerUser(user_id=749006059)</td>\n",
       "      <td>611662350</td>\n",
       "      <td>NaN</td>\n",
       "      <td>хулі ігнориш</td>\n",
       "      <td>text</td>\n",
       "      <td>NaN</td>\n",
       "      <td>{}</td>\n",
       "      <td>611662350</td>\n",
       "    </tr>\n",
       "    <tr>\n",
       "      <th>2</th>\n",
       "      <td>170786</td>\n",
       "      <td>2023-06-15 18:45:18+00:00</td>\n",
       "      <td>PeerUser(user_id=749006059)</td>\n",
       "      <td>611662350</td>\n",
       "      <td>NaN</td>\n",
       "      <td>Ти вже писав нмт?</td>\n",
       "      <td>text</td>\n",
       "      <td>NaN</td>\n",
       "      <td>{}</td>\n",
       "      <td>611662350</td>\n",
       "    </tr>\n",
       "    <tr>\n",
       "      <th>3</th>\n",
       "      <td>170785</td>\n",
       "      <td>2023-06-15 18:45:13+00:00</td>\n",
       "      <td>PeerUser(user_id=749006059)</td>\n",
       "      <td>611662350</td>\n",
       "      <td>NaN</td>\n",
       "      <td>Доров</td>\n",
       "      <td>text</td>\n",
       "      <td>NaN</td>\n",
       "      <td>{}</td>\n",
       "      <td>611662350</td>\n",
       "    </tr>\n",
       "    <tr>\n",
       "      <th>4</th>\n",
       "      <td>114007</td>\n",
       "      <td>2022-11-19 10:26:19+00:00</td>\n",
       "      <td>PeerUser(user_id=749006059)</td>\n",
       "      <td>611662350</td>\n",
       "      <td>NaN</td>\n",
       "      <td>Ясно</td>\n",
       "      <td>text</td>\n",
       "      <td>NaN</td>\n",
       "      <td>{}</td>\n",
       "      <td>611662350</td>\n",
       "    </tr>\n",
       "    <tr>\n",
       "      <th>5</th>\n",
       "      <td>114004</td>\n",
       "      <td>2022-11-19 10:02:06+00:00</td>\n",
       "      <td>NaN</td>\n",
       "      <td>749006059</td>\n",
       "      <td>NaN</td>\n",
       "      <td>а \"Іванов\" це одне з найчастіших імен</td>\n",
       "      <td>text</td>\n",
       "      <td>NaN</td>\n",
       "      <td>{}</td>\n",
       "      <td>611662350</td>\n",
       "    </tr>\n",
       "    <tr>\n",
       "      <th>6</th>\n",
       "      <td>114003</td>\n",
       "      <td>2022-11-19 10:01:48+00:00</td>\n",
       "      <td>NaN</td>\n",
       "      <td>749006059</td>\n",
       "      <td>NaN</td>\n",
       "      <td>ти сам здається підписався просто як roman, ні?</td>\n",
       "      <td>text</td>\n",
       "      <td>NaN</td>\n",
       "      <td>{}</td>\n",
       "      <td>611662350</td>\n",
       "    </tr>\n",
       "    <tr>\n",
       "      <th>7</th>\n",
       "      <td>114002</td>\n",
       "      <td>2022-11-19 10:01:33+00:00</td>\n",
       "      <td>NaN</td>\n",
       "      <td>749006059</td>\n",
       "      <td>NaN</td>\n",
       "      <td>NaN</td>\n",
       "      <td>text</td>\n",
       "      <td>NaN</td>\n",
       "      <td>{}</td>\n",
       "      <td>611662350</td>\n",
       "    </tr>\n",
       "    <tr>\n",
       "      <th>8</th>\n",
       "      <td>114001</td>\n",
       "      <td>2022-11-19 10:01:26+00:00</td>\n",
       "      <td>NaN</td>\n",
       "      <td>749006059</td>\n",
       "      <td>NaN</td>\n",
       "      <td>бо трохи не полюбляю виставляти ім'я в інтернеті</td>\n",
       "      <td>text</td>\n",
       "      <td>NaN</td>\n",
       "      <td>{}</td>\n",
       "      <td>611662350</td>\n",
       "    </tr>\n",
       "    <tr>\n",
       "      <th>9</th>\n",
       "      <td>114000</td>\n",
       "      <td>2022-11-19 09:57:34+00:00</td>\n",
       "      <td>PeerUser(user_id=749006059)</td>\n",
       "      <td>611662350</td>\n",
       "      <td>NaN</td>\n",
       "      <td>Чому ти підписаний \"Іванов\"? Якщо не секрет</td>\n",
       "      <td>text</td>\n",
       "      <td>NaN</td>\n",
       "      <td>{}</td>\n",
       "      <td>611662350</td>\n",
       "    </tr>\n",
       "  </tbody>\n",
       "</table>\n",
       "</div>"
      ],
      "text/plain": [
       "       id                       date                      from_id      to_id  \\\n",
       "0  170803  2023-06-16 08:39:46+00:00                          NaN  749006059   \n",
       "1  170802  2023-06-16 08:06:56+00:00  PeerUser(user_id=749006059)  611662350   \n",
       "2  170786  2023-06-15 18:45:18+00:00  PeerUser(user_id=749006059)  611662350   \n",
       "3  170785  2023-06-15 18:45:13+00:00  PeerUser(user_id=749006059)  611662350   \n",
       "4  114007  2022-11-19 10:26:19+00:00  PeerUser(user_id=749006059)  611662350   \n",
       "5  114004  2022-11-19 10:02:06+00:00                          NaN  749006059   \n",
       "6  114003  2022-11-19 10:01:48+00:00                          NaN  749006059   \n",
       "7  114002  2022-11-19 10:01:33+00:00                          NaN  749006059   \n",
       "8  114001  2022-11-19 10:01:26+00:00                          NaN  749006059   \n",
       "9  114000  2022-11-19 09:57:34+00:00  PeerUser(user_id=749006059)  611662350   \n",
       "\n",
       "  fwd_from                                            message  type  duration  \\\n",
       "0      NaN  думаешь у меня есть желание с тобой говорить? ...  text       NaN   \n",
       "1      NaN                                       хулі ігнориш  text       NaN   \n",
       "2      NaN                                  Ти вже писав нмт?  text       NaN   \n",
       "3      NaN                                              Доров  text       NaN   \n",
       "4      NaN                                               Ясно  text       NaN   \n",
       "5      NaN              а \"Іванов\" це одне з найчастіших імен  text       NaN   \n",
       "6      NaN    ти сам здається підписався просто як roman, ні?  text       NaN   \n",
       "7      NaN                                                NaN  text       NaN   \n",
       "8      NaN   бо трохи не полюбляю виставляти ім'я в інтернеті  text       NaN   \n",
       "9      NaN        Чому ти підписаний \"Іванов\"? Якщо не секрет  text       NaN   \n",
       "\n",
       "  reactions  dialog_id  \n",
       "0        {}  611662350  \n",
       "1        {}  611662350  \n",
       "2        {}  611662350  \n",
       "3        {}  611662350  \n",
       "4        {}  611662350  \n",
       "5        {}  611662350  \n",
       "6        {}  611662350  \n",
       "7        {}  611662350  \n",
       "8        {}  611662350  \n",
       "9        {}  611662350  "
      ]
     },
     "execution_count": 10,
     "metadata": {},
     "output_type": "execute_result"
    }
   ],
   "source": [
    "df.head(10)"
   ]
  },
  {
   "cell_type": "code",
   "execution_count": 11,
   "id": "d1bd96f3",
   "metadata": {},
   "outputs": [
    {
     "data": {
      "text/plain": [
       "('2017-05-29 04:52:49+00:00', '2024-11-26 10:40:16+00:00')"
      ]
     },
     "execution_count": 11,
     "metadata": {},
     "output_type": "execute_result"
    }
   ],
   "source": [
    "min(df[\"date\"]),max(df[\"date\"])"
   ]
  },
  {
   "cell_type": "code",
   "execution_count": 12,
   "id": "2a1aafab",
   "metadata": {},
   "outputs": [
    {
     "data": {
      "text/plain": [
       "type\n",
       "photo       776953\n",
       "sticker     175799\n",
       "text       7017409\n",
       "video       401153\n",
       "voice        45229\n",
       "Name: type, dtype: int64"
      ]
     },
     "execution_count": 12,
     "metadata": {},
     "output_type": "execute_result"
    }
   ],
   "source": [
    "df.groupby([\"type\"])[\"type\"].count()"
   ]
  },
  {
   "cell_type": "code",
   "execution_count": 13,
   "id": "66a677a9",
   "metadata": {},
   "outputs": [
    {
     "data": {
      "text/plain": [
       "type\n",
       "photo      0.000000e+00\n",
       "sticker    0.000000e+00\n",
       "text       0.000000e+00\n",
       "video      1.294413e+07\n",
       "voice      2.548173e+09\n",
       "Name: duration, dtype: float64"
      ]
     },
     "execution_count": 13,
     "metadata": {},
     "output_type": "execute_result"
    }
   ],
   "source": [
    "df.groupby([\"type\"])[\"duration\"].sum()"
   ]
  },
  {
   "cell_type": "markdown",
   "id": "e24460df",
   "metadata": {},
   "source": [
    "## merging all dialogs_meta_data (json files) into one"
   ]
  },
  {
   "cell_type": "code",
   "execution_count": 14,
   "id": "3cecdc78",
   "metadata": {},
   "outputs": [],
   "source": [
    "df_array = []\n",
    "\n",
    "for d in dialogs_meta_data_files:\n",
    "    local_df = pd.read_json(d)\n",
    "    local_df = local_df.rename({'id': 'dialog_id'}, axis=1)\n",
    "    df_array.append(local_df)\n",
    "    \n",
    "df_meta = pd.concat(df_array, ignore_index=True)"
   ]
  },
  {
   "cell_type": "code",
   "execution_count": 15,
   "id": "6b458ce5",
   "metadata": {},
   "outputs": [],
   "source": [
    "df_meta.to_csv(f\"{MERGED_DATA_PATH}/dialogs_users_all.csv\", index=False)"
   ]
  },
  {
   "cell_type": "code",
   "execution_count": 16,
   "id": "313b23f0",
   "metadata": {},
   "outputs": [
    {
     "data": {
      "text/plain": [
       "(27379, 4)"
      ]
     },
     "execution_count": 16,
     "metadata": {},
     "output_type": "execute_result"
    }
   ],
   "source": [
    "df_meta.shape"
   ]
  },
  {
   "cell_type": "code",
   "execution_count": 17,
   "id": "ef6f51b9",
   "metadata": {},
   "outputs": [
    {
     "data": {
      "text/html": [
       "<div>\n",
       "<style scoped>\n",
       "    .dataframe tbody tr th:only-of-type {\n",
       "        vertical-align: middle;\n",
       "    }\n",
       "\n",
       "    .dataframe tbody tr th {\n",
       "        vertical-align: top;\n",
       "    }\n",
       "\n",
       "    .dataframe thead th {\n",
       "        text-align: right;\n",
       "    }\n",
       "</style>\n",
       "<table border=\"1\" class=\"dataframe\">\n",
       "  <thead>\n",
       "    <tr style=\"text-align: right;\">\n",
       "      <th></th>\n",
       "      <th>dialog_id</th>\n",
       "      <th>name</th>\n",
       "      <th>type</th>\n",
       "      <th>users</th>\n",
       "    </tr>\n",
       "  </thead>\n",
       "  <tbody>\n",
       "    <tr>\n",
       "      <th>0</th>\n",
       "      <td>1032732069</td>\n",
       "      <td>StikStok Bot</td>\n",
       "      <td>Private dialog</td>\n",
       "      <td>{'user_id': 1032732069, 'first_name': 'StikSto...</td>\n",
       "    </tr>\n",
       "    <tr>\n",
       "      <th>1</th>\n",
       "      <td>810142558</td>\n",
       "      <td>Masha</td>\n",
       "      <td>Private dialog</td>\n",
       "      <td>{'user_id': 810142558, 'first_name': 'Masha', ...</td>\n",
       "    </tr>\n",
       "    <tr>\n",
       "      <th>2</th>\n",
       "      <td>-1001419124412</td>\n",
       "      <td>UPML_HUB</td>\n",
       "      <td>Group</td>\n",
       "      <td>{'user_id': 749006059, 'first_name': 'Roman', ...</td>\n",
       "    </tr>\n",
       "    <tr>\n",
       "      <th>3</th>\n",
       "      <td>-1001419124412</td>\n",
       "      <td>UPML_HUB</td>\n",
       "      <td>Group</td>\n",
       "      <td>{'user_id': 1008861710, 'first_name': 'Антон',...</td>\n",
       "    </tr>\n",
       "    <tr>\n",
       "      <th>4</th>\n",
       "      <td>942619663</td>\n",
       "      <td>diana</td>\n",
       "      <td>Private dialog</td>\n",
       "      <td>{'user_id': 942619663, 'first_name': 'diana', ...</td>\n",
       "    </tr>\n",
       "    <tr>\n",
       "      <th>5</th>\n",
       "      <td>-1001592132299</td>\n",
       "      <td>Дупа кабана</td>\n",
       "      <td>Group</td>\n",
       "      <td>{'user_id': 749006059, 'first_name': 'Roman', ...</td>\n",
       "    </tr>\n",
       "    <tr>\n",
       "      <th>6</th>\n",
       "      <td>-1001592132299</td>\n",
       "      <td>Дупа кабана</td>\n",
       "      <td>Group</td>\n",
       "      <td>{'user_id': 572990632, 'first_name': 'Лис', 'l...</td>\n",
       "    </tr>\n",
       "    <tr>\n",
       "      <th>7</th>\n",
       "      <td>-1001592132299</td>\n",
       "      <td>Дупа кабана</td>\n",
       "      <td>Group</td>\n",
       "      <td>{'user_id': 356833338, 'first_name': 'Vladenou...</td>\n",
       "    </tr>\n",
       "    <tr>\n",
       "      <th>8</th>\n",
       "      <td>-1001592132299</td>\n",
       "      <td>Дупа кабана</td>\n",
       "      <td>Group</td>\n",
       "      <td>{'user_id': 1349326050, 'first_name': 'CaLIJKo...</td>\n",
       "    </tr>\n",
       "    <tr>\n",
       "      <th>9</th>\n",
       "      <td>-1001592132299</td>\n",
       "      <td>Дупа кабана</td>\n",
       "      <td>Group</td>\n",
       "      <td>{'user_id': 292717879, 'first_name': 'Oksana',...</td>\n",
       "    </tr>\n",
       "  </tbody>\n",
       "</table>\n",
       "</div>"
      ],
      "text/plain": [
       "       dialog_id          name            type  \\\n",
       "0     1032732069  StikStok Bot  Private dialog   \n",
       "1      810142558         Masha  Private dialog   \n",
       "2 -1001419124412      UPML_HUB           Group   \n",
       "3 -1001419124412      UPML_HUB           Group   \n",
       "4      942619663         diana  Private dialog   \n",
       "5 -1001592132299   Дупа кабана           Group   \n",
       "6 -1001592132299   Дупа кабана           Group   \n",
       "7 -1001592132299   Дупа кабана           Group   \n",
       "8 -1001592132299   Дупа кабана           Group   \n",
       "9 -1001592132299   Дупа кабана           Group   \n",
       "\n",
       "                                               users  \n",
       "0  {'user_id': 1032732069, 'first_name': 'StikSto...  \n",
       "1  {'user_id': 810142558, 'first_name': 'Masha', ...  \n",
       "2  {'user_id': 749006059, 'first_name': 'Roman', ...  \n",
       "3  {'user_id': 1008861710, 'first_name': 'Антон',...  \n",
       "4  {'user_id': 942619663, 'first_name': 'diana', ...  \n",
       "5  {'user_id': 749006059, 'first_name': 'Roman', ...  \n",
       "6  {'user_id': 572990632, 'first_name': 'Лис', 'l...  \n",
       "7  {'user_id': 356833338, 'first_name': 'Vladenou...  \n",
       "8  {'user_id': 1349326050, 'first_name': 'CaLIJKo...  \n",
       "9  {'user_id': 292717879, 'first_name': 'Oksana',...  "
      ]
     },
     "execution_count": 17,
     "metadata": {},
     "output_type": "execute_result"
    }
   ],
   "source": [
    "df_meta.head(10)"
   ]
  },
  {
   "cell_type": "code",
   "execution_count": 18,
   "id": "186f2f67",
   "metadata": {},
   "outputs": [
    {
     "data": {
      "text/plain": [
       "type\n",
       "Channel             129\n",
       "Group             26959\n",
       "Private dialog      291\n",
       "Name: type, dtype: int64"
      ]
     },
     "execution_count": 18,
     "metadata": {},
     "output_type": "execute_result"
    }
   ],
   "source": [
    "df_meta.groupby([\"type\"])[\"type\"].count()"
   ]
  },
  {
   "cell_type": "code",
   "execution_count": null,
   "id": "36bc5268",
   "metadata": {},
   "outputs": [],
   "source": []
  }
 ],
 "metadata": {
  "kernelspec": {
   "display_name": "Python 3",
   "language": "python",
   "name": "python3"
  },
  "language_info": {
   "codemirror_mode": {
    "name": "ipython",
    "version": 3
   },
   "file_extension": ".py",
   "mimetype": "text/x-python",
   "name": "python",
   "nbconvert_exporter": "python",
   "pygments_lexer": "ipython3",
   "version": "3.8.13"
  }
 },
 "nbformat": 4,
 "nbformat_minor": 5
}
